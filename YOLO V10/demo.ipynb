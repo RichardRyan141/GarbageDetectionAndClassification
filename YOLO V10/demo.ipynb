{
  "nbformat": 4,
  "nbformat_minor": 0,
  "metadata": {
    "colab": {
      "provenance": []
    },
    "kernelspec": {
      "name": "python3",
      "display_name": "Python 3"
    },
    "language_info": {
      "name": "python"
    }
  },
  "cells": [
    {
      "cell_type": "markdown",
      "source": [
        "# Installation"
      ],
      "metadata": {
        "id": "rKSbm9YK7mEQ"
      }
    },
    {
      "cell_type": "code",
      "execution_count": null,
      "metadata": {
        "id": "SlMG1SJN7lPV"
      },
      "outputs": [],
      "source": [
        "!git clone https://github.com/RichardRyan141/GarbageDetectionAndClassification.git"
      ]
    },
    {
      "cell_type": "code",
      "source": [
        "!pip install -q git+https://github.com/THU-MIG/yolov10.git"
      ],
      "metadata": {
        "id": "RrajLafR7o_R"
      },
      "execution_count": null,
      "outputs": []
    },
    {
      "cell_type": "code",
      "source": [
        "!cd \"GarbageDetectionAndClassification/YOLO V10\" && pip install -r requirement.txt"
      ],
      "metadata": {
        "id": "UPINvC6a7qGY"
      },
      "execution_count": null,
      "outputs": []
    },
    {
      "cell_type": "markdown",
      "source": [
        "# Download dataset"
      ],
      "metadata": {
        "id": "GZFVvpgK7sKy"
      }
    },
    {
      "cell_type": "code",
      "source": [
        "source = 'roboflow' # @param [\"roboflow\", \"kaggle\"]\n",
        "directory = 'data' # @param {type:\"string\"}\n",
        "kaggle_username = '' # @param {type:\"string\"}\n",
        "kaggle_key = '' # @param {type:\"string\"}\n",
        "roboflow_key = 'SKyeTAFie45MoRdKLgCM' # @param {type:\"string\"}\n",
        "\n",
        "cmd = f'python \"GarbageDetectionAndClassification/YOLO V10/src/download.py\" --source {source} --directory {directory}'\n",
        "if source == \"roboflow\":\n",
        "  cmd += f\"--kaggle_username {kaggle_username} --kaggle_key {kaggle_key}\"\n",
        "else:\n",
        "  cmd += f\"--roboflow_key {roboflow_key}\"\n",
        "\n",
        "!{cmd}"
      ],
      "metadata": {
        "cellView": "form",
        "id": "yaowfZcQ7vxT"
      },
      "execution_count": null,
      "outputs": []
    },
    {
      "cell_type": "markdown",
      "source": [
        "# Preprocess"
      ],
      "metadata": {
        "id": "PU-wRsL18vva"
      }
    },
    {
      "cell_type": "markdown",
      "source": [
        "## Kaggle"
      ],
      "metadata": {
        "id": "BPoW4SLR8y97"
      }
    },
    {
      "cell_type": "code",
      "source": [
        "max_box_count = 30 # @param {type:\"integer\"}\n",
        "min_box_size = 0.00015 # @param {type:\"number\"}\n",
        "max_iou = 0.35 # @param {type:\"number\"}\n",
        "\n",
        "\n",
        "cmd = f'python \"GarbageDetectionAndClassification/YOLO V10/src/preprocess_kaggle.py\" --directory {directory}'\n",
        "if max_box_count:\n",
        "  cmd += f\"--max_box_count {max_box_count}\"\n",
        "if min_box_size:\n",
        "  cmd += f\"--min_box_size {min_box_size}\"\n",
        "if max_iou:\n",
        "  cmd += f\"--max_iou {max_iou}\"\n",
        "\n",
        "!{cmd}"
      ],
      "metadata": {
        "id": "kOedNgO-85kH"
      },
      "execution_count": null,
      "outputs": []
    },
    {
      "cell_type": "code",
      "source": [
        "split_directory = 'TACO' # @param {type:\"string\"}\n",
        "train_split = 0.85 # @param {type:\"number\"}\n",
        "val_split = 0.1 # @param {type:\"number\"}\n",
        "use_test = True # @param {type:\"boolean\"}\n",
        "shuffle = False # @param {type:\"boolean\"}\n",
        "\n",
        "cmd = f'python \"GarbageDetectionAndClassification/YOLO V10/src/split_kaggle.py\" --directory {directory} --split_directory{split_directory} --train_split{train_split} --val_split{val_split}'\n",
        "if use_test:\n",
        "  cmd += f\"--use_test\"\n",
        "if shuffle:\n",
        "  cmd += f\"--shuffle\"\n",
        "\n",
        "!{cmd}"
      ],
      "metadata": {
        "id": "_gUzzupA-Emz"
      },
      "execution_count": null,
      "outputs": []
    },
    {
      "cell_type": "markdown",
      "source": [
        "## Roboflow"
      ],
      "metadata": {
        "id": "Y3zTBBNG80ME"
      }
    },
    {
      "cell_type": "code",
      "source": [
        "max_box_count = 30 # @param {type:\"integer\"}\n",
        "min_box_size = 0.00015 # @param {type:\"number\"}\n",
        "max_iou = 0.35 # @param {type:\"number\"}\n",
        "\n",
        "\n",
        "cmd = f'python \"GarbageDetectionAndClassification/YOLO V10/src/preprocess_roboflow.py\" --directory {directory}'\n",
        "if max_box_count:\n",
        "  cmd += f\"--max_box_count {max_box_count}\"\n",
        "if min_box_size:\n",
        "  cmd += f\"--min_box_size {min_box_size}\"\n",
        "if max_iou:\n",
        "  cmd += f\"--max_iou {max_iou}\"\n",
        "\n",
        "!{cmd}"
      ],
      "metadata": {
        "id": "1JgxDRuy-5lj"
      },
      "execution_count": null,
      "outputs": []
    },
    {
      "cell_type": "markdown",
      "source": [
        "# Training"
      ],
      "metadata": {
        "id": "TANplGxn_D_H"
      }
    },
    {
      "cell_type": "code",
      "source": [
        "epochs = 25 # @param {type:\"integer\"}\n",
        "weight = \"\" # @param {type:\"string\"}\n",
        "batch_size = 8 # @param {type:\"integer\"}\n",
        "\n",
        "\n",
        "cmd = f'python \"GarbageDetectionAndClassification/YOLO V10/src/train.py\" --directory {split_directory} --epochs {epochs} --weight {weight}'\n",
        "if batch_size:\n",
        "  cmd += f\"--batch_size {batch_size}\"\n",
        "\n",
        "!{cmd}"
      ],
      "metadata": {
        "id": "D-uH953O_GbJ"
      },
      "execution_count": null,
      "outputs": []
    },
    {
      "cell_type": "markdown",
      "source": [
        "# Inference"
      ],
      "metadata": {
        "id": "qdrKH7XQ_h0f"
      }
    },
    {
      "cell_type": "code",
      "source": [
        "inference_source = 'image' # @param [\"image\", \"video\", \"directory\"]\n",
        "file_path = \"\" # @param {type:\"string\"}\n",
        "dir_path = \"\" # @param {type:\"string\"}\n",
        "result_directory = \"\" # @param {type:\"string\"}\n",
        "inference_weight = \"\" # @param {type:\"string\"}\n",
        "confidence_level = 0.35 # @param {type:\"number\"}\n",
        "\n",
        "cmd = f'python \"GarbageDetectionAndClassification/YOLO V10/src/inference.py\" --source {inference_source} --result_directory {result_directory} --weight {inference_weight} --conf {confidence_level}'\n",
        "if inference_source == \"image\":\n",
        "  cmd += f\"--image {file_path}\"\n",
        "elif inference_source == \"video\":\n",
        "  cmd += f\"--video {file_path}\"\n",
        "else:\n",
        "  cmd += f\"--directory {dir_path}\"\n",
        "\n",
        "!{cmd}"
      ],
      "metadata": {
        "id": "ULQbHUly_jDv"
      },
      "execution_count": null,
      "outputs": []
    }
  ]
}